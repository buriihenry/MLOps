{
 "cells": [
  {
   "cell_type": "code",
   "execution_count": 23,
   "metadata": {},
   "outputs": [],
   "source": [
    "from mlflow import MlflowClient\n",
    "\n",
    "from mlflow.tracking import MlflowClient\n",
    "\n",
    "MLFLOW_TRACKING_URI = \"sqlite:///mlflow.db\"\n"
   ]
  },
  {
   "cell_type": "code",
   "execution_count": 24,
   "metadata": {},
   "outputs": [],
   "source": [
    "client = MlflowClient(tracking_uri=MLFLOW_TRACKING_URI)\n",
    "\n"
   ]
  },
  {
   "cell_type": "code",
   "execution_count": 25,
   "metadata": {},
   "outputs": [
    {
     "ename": "MlflowException",
     "evalue": "Experiment(name=my-cool-experiment) already exists. Error: (raised as a result of Query-invoked autoflush; consider using a session.no_autoflush block if this flush is occurring prematurely)\n(sqlite3.IntegrityError) UNIQUE constraint failed: experiments.name\n[SQL: INSERT INTO experiments (name, artifact_location, lifecycle_stage, creation_time, last_update_time) VALUES (?, ?, ?, ?, ?)]\n[parameters: ('my-cool-experiment', None, 'active', 1681180683406, 1681180683406)]\n(Background on this error at: https://sqlalche.me/e/14/gkpj)",
     "output_type": "error",
     "traceback": [
      "\u001b[1;31m---------------------------------------------------------------------------\u001b[0m",
      "\u001b[1;31mIntegrityError\u001b[0m                            Traceback (most recent call last)",
      "File \u001b[1;32mc:\\Users\\Lenovo\\AppData\\Local\\Programs\\Python\\Python310\\lib\\site-packages\\sqlalchemy\\engine\\base.py:1900\u001b[0m, in \u001b[0;36mConnection._execute_context\u001b[1;34m(self, dialect, constructor, statement, parameters, execution_options, *args, **kw)\u001b[0m\n\u001b[0;32m   1899\u001b[0m     \u001b[39mif\u001b[39;00m \u001b[39mnot\u001b[39;00m evt_handled:\n\u001b[1;32m-> 1900\u001b[0m         \u001b[39mself\u001b[39;49m\u001b[39m.\u001b[39;49mdialect\u001b[39m.\u001b[39;49mdo_execute(\n\u001b[0;32m   1901\u001b[0m             cursor, statement, parameters, context\n\u001b[0;32m   1902\u001b[0m         )\n\u001b[0;32m   1904\u001b[0m \u001b[39mif\u001b[39;00m \u001b[39mself\u001b[39m\u001b[39m.\u001b[39m_has_events \u001b[39mor\u001b[39;00m \u001b[39mself\u001b[39m\u001b[39m.\u001b[39mengine\u001b[39m.\u001b[39m_has_events:\n",
      "File \u001b[1;32mc:\\Users\\Lenovo\\AppData\\Local\\Programs\\Python\\Python310\\lib\\site-packages\\sqlalchemy\\engine\\default.py:732\u001b[0m, in \u001b[0;36mDefaultDialect.do_execute\u001b[1;34m(self, cursor, statement, parameters, context)\u001b[0m\n\u001b[0;32m    731\u001b[0m \u001b[39mdef\u001b[39;00m \u001b[39mdo_execute\u001b[39m(\u001b[39mself\u001b[39m, cursor, statement, parameters, context\u001b[39m=\u001b[39m\u001b[39mNone\u001b[39;00m):\n\u001b[1;32m--> 732\u001b[0m     cursor\u001b[39m.\u001b[39;49mexecute(statement, parameters)\n",
      "\u001b[1;31mIntegrityError\u001b[0m: UNIQUE constraint failed: experiments.name",
      "\nThe above exception was the direct cause of the following exception:\n",
      "\u001b[1;31mIntegrityError\u001b[0m                            Traceback (most recent call last)",
      "File \u001b[1;32mc:\\Users\\Lenovo\\AppData\\Local\\Programs\\Python\\Python310\\lib\\site-packages\\mlflow\\store\\tracking\\sqlalchemy_store.py:256\u001b[0m, in \u001b[0;36mSqlAlchemyStore.create_experiment\u001b[1;34m(self, name, artifact_location, tags)\u001b[0m\n\u001b[0;32m    254\u001b[0m \u001b[39mif\u001b[39;00m \u001b[39mnot\u001b[39;00m artifact_location:\n\u001b[0;32m    255\u001b[0m     \u001b[39m# this requires a double write. The first one to generate an autoincrement-ed ID\u001b[39;00m\n\u001b[1;32m--> 256\u001b[0m     eid \u001b[39m=\u001b[39m session\u001b[39m.\u001b[39;49mquery(SqlExperiment)\u001b[39m.\u001b[39;49mfilter_by(name\u001b[39m=\u001b[39;49mname)\u001b[39m.\u001b[39;49mfirst()\u001b[39m.\u001b[39mexperiment_id\n\u001b[0;32m    257\u001b[0m     experiment\u001b[39m.\u001b[39martifact_location \u001b[39m=\u001b[39m \u001b[39mself\u001b[39m\u001b[39m.\u001b[39m_get_artifact_location(eid)\n",
      "File \u001b[1;32mc:\\Users\\Lenovo\\AppData\\Local\\Programs\\Python\\Python310\\lib\\site-packages\\sqlalchemy\\orm\\query.py:2823\u001b[0m, in \u001b[0;36mQuery.first\u001b[1;34m(self)\u001b[0m\n\u001b[0;32m   2822\u001b[0m \u001b[39melse\u001b[39;00m:\n\u001b[1;32m-> 2823\u001b[0m     \u001b[39mreturn\u001b[39;00m \u001b[39mself\u001b[39;49m\u001b[39m.\u001b[39;49mlimit(\u001b[39m1\u001b[39;49m)\u001b[39m.\u001b[39;49m_iter()\u001b[39m.\u001b[39mfirst()\n",
      "File \u001b[1;32mc:\\Users\\Lenovo\\AppData\\Local\\Programs\\Python\\Python310\\lib\\site-packages\\sqlalchemy\\orm\\query.py:2907\u001b[0m, in \u001b[0;36mQuery._iter\u001b[1;34m(self)\u001b[0m\n\u001b[0;32m   2906\u001b[0m statement \u001b[39m=\u001b[39m \u001b[39mself\u001b[39m\u001b[39m.\u001b[39m_statement_20()\n\u001b[1;32m-> 2907\u001b[0m result \u001b[39m=\u001b[39m \u001b[39mself\u001b[39;49m\u001b[39m.\u001b[39;49msession\u001b[39m.\u001b[39;49mexecute(\n\u001b[0;32m   2908\u001b[0m     statement,\n\u001b[0;32m   2909\u001b[0m     params,\n\u001b[0;32m   2910\u001b[0m     execution_options\u001b[39m=\u001b[39;49m{\u001b[39m\"\u001b[39;49m\u001b[39m_sa_orm_load_options\u001b[39;49m\u001b[39m\"\u001b[39;49m: \u001b[39mself\u001b[39;49m\u001b[39m.\u001b[39;49mload_options},\n\u001b[0;32m   2911\u001b[0m )\n\u001b[0;32m   2913\u001b[0m \u001b[39m# legacy: automatically set scalars, unique\u001b[39;00m\n",
      "File \u001b[1;32mc:\\Users\\Lenovo\\AppData\\Local\\Programs\\Python\\Python310\\lib\\site-packages\\sqlalchemy\\orm\\session.py:1660\u001b[0m, in \u001b[0;36mSession.execute\u001b[1;34m(self, statement, params, execution_options, bind_arguments, _parent_execute_state, _add_event, **kw)\u001b[0m\n\u001b[0;32m   1656\u001b[0m \u001b[39mif\u001b[39;00m compile_state_cls \u001b[39mis\u001b[39;00m \u001b[39mnot\u001b[39;00m \u001b[39mNone\u001b[39;00m:\n\u001b[0;32m   1657\u001b[0m     (\n\u001b[0;32m   1658\u001b[0m         statement,\n\u001b[0;32m   1659\u001b[0m         execution_options,\n\u001b[1;32m-> 1660\u001b[0m     ) \u001b[39m=\u001b[39m compile_state_cls\u001b[39m.\u001b[39;49morm_pre_session_exec(\n\u001b[0;32m   1661\u001b[0m         \u001b[39mself\u001b[39;49m,\n\u001b[0;32m   1662\u001b[0m         statement,\n\u001b[0;32m   1663\u001b[0m         params,\n\u001b[0;32m   1664\u001b[0m         execution_options,\n\u001b[0;32m   1665\u001b[0m         bind_arguments,\n\u001b[0;32m   1666\u001b[0m         _parent_execute_state \u001b[39mis\u001b[39;49;00m \u001b[39mnot\u001b[39;49;00m \u001b[39mNone\u001b[39;49;00m,\n\u001b[0;32m   1667\u001b[0m     )\n\u001b[0;32m   1668\u001b[0m \u001b[39melse\u001b[39;00m:\n",
      "File \u001b[1;32mc:\\Users\\Lenovo\\AppData\\Local\\Programs\\Python\\Python310\\lib\\site-packages\\sqlalchemy\\orm\\context.py:316\u001b[0m, in \u001b[0;36mORMCompileState.orm_pre_session_exec\u001b[1;34m(cls, session, statement, params, execution_options, bind_arguments, is_reentrant_invoke)\u001b[0m\n\u001b[0;32m    315\u001b[0m \u001b[39mif\u001b[39;00m load_options\u001b[39m.\u001b[39m_autoflush:\n\u001b[1;32m--> 316\u001b[0m     session\u001b[39m.\u001b[39;49m_autoflush()\n\u001b[0;32m    318\u001b[0m \u001b[39mreturn\u001b[39;00m statement, execution_options\n",
      "File \u001b[1;32mc:\\Users\\Lenovo\\AppData\\Local\\Programs\\Python\\Python310\\lib\\site-packages\\sqlalchemy\\orm\\session.py:2257\u001b[0m, in \u001b[0;36mSession._autoflush\u001b[1;34m(self)\u001b[0m\n\u001b[0;32m   2252\u001b[0m e\u001b[39m.\u001b[39madd_detail(\n\u001b[0;32m   2253\u001b[0m     \u001b[39m\"\u001b[39m\u001b[39mraised as a result of Query-invoked autoflush; \u001b[39m\u001b[39m\"\u001b[39m\n\u001b[0;32m   2254\u001b[0m     \u001b[39m\"\u001b[39m\u001b[39mconsider using a session.no_autoflush block if this \u001b[39m\u001b[39m\"\u001b[39m\n\u001b[0;32m   2255\u001b[0m     \u001b[39m\"\u001b[39m\u001b[39mflush is occurring prematurely\u001b[39m\u001b[39m\"\u001b[39m\n\u001b[0;32m   2256\u001b[0m )\n\u001b[1;32m-> 2257\u001b[0m util\u001b[39m.\u001b[39;49mraise_(e, with_traceback\u001b[39m=\u001b[39;49msys\u001b[39m.\u001b[39;49mexc_info()[\u001b[39m2\u001b[39;49m])\n",
      "File \u001b[1;32mc:\\Users\\Lenovo\\AppData\\Local\\Programs\\Python\\Python310\\lib\\site-packages\\sqlalchemy\\util\\compat.py:208\u001b[0m, in \u001b[0;36mraise_\u001b[1;34m(***failed resolving arguments***)\u001b[0m\n\u001b[0;32m    207\u001b[0m \u001b[39mtry\u001b[39;00m:\n\u001b[1;32m--> 208\u001b[0m     \u001b[39mraise\u001b[39;00m exception\n\u001b[0;32m    209\u001b[0m \u001b[39mfinally\u001b[39;00m:\n\u001b[0;32m    210\u001b[0m     \u001b[39m# credit to\u001b[39;00m\n\u001b[0;32m    211\u001b[0m     \u001b[39m# https://cosmicpercolator.com/2016/01/13/exception-leaks-in-python-2-and-3/\u001b[39;00m\n\u001b[0;32m    212\u001b[0m     \u001b[39m# as the __traceback__ object creates a cycle\u001b[39;00m\n",
      "File \u001b[1;32mc:\\Users\\Lenovo\\AppData\\Local\\Programs\\Python\\Python310\\lib\\site-packages\\sqlalchemy\\orm\\session.py:2246\u001b[0m, in \u001b[0;36mSession._autoflush\u001b[1;34m(self)\u001b[0m\n\u001b[0;32m   2245\u001b[0m \u001b[39mtry\u001b[39;00m:\n\u001b[1;32m-> 2246\u001b[0m     \u001b[39mself\u001b[39;49m\u001b[39m.\u001b[39;49mflush()\n\u001b[0;32m   2247\u001b[0m \u001b[39mexcept\u001b[39;00m sa_exc\u001b[39m.\u001b[39mStatementError \u001b[39mas\u001b[39;00m e:\n\u001b[0;32m   2248\u001b[0m     \u001b[39m# note we are reraising StatementError as opposed to\u001b[39;00m\n\u001b[0;32m   2249\u001b[0m     \u001b[39m# raising FlushError with \"chaining\" to remain compatible\u001b[39;00m\n\u001b[0;32m   2250\u001b[0m     \u001b[39m# with code that catches StatementError, IntegrityError,\u001b[39;00m\n\u001b[0;32m   2251\u001b[0m     \u001b[39m# etc.\u001b[39;00m\n",
      "File \u001b[1;32mc:\\Users\\Lenovo\\AppData\\Local\\Programs\\Python\\Python310\\lib\\site-packages\\sqlalchemy\\orm\\session.py:3383\u001b[0m, in \u001b[0;36mSession.flush\u001b[1;34m(self, objects)\u001b[0m\n\u001b[0;32m   3382\u001b[0m     \u001b[39mself\u001b[39m\u001b[39m.\u001b[39m_flushing \u001b[39m=\u001b[39m \u001b[39mTrue\u001b[39;00m\n\u001b[1;32m-> 3383\u001b[0m     \u001b[39mself\u001b[39;49m\u001b[39m.\u001b[39;49m_flush(objects)\n\u001b[0;32m   3384\u001b[0m \u001b[39mfinally\u001b[39;00m:\n",
      "File \u001b[1;32mc:\\Users\\Lenovo\\AppData\\Local\\Programs\\Python\\Python310\\lib\\site-packages\\sqlalchemy\\orm\\session.py:3522\u001b[0m, in \u001b[0;36mSession._flush\u001b[1;34m(self, objects)\u001b[0m\n\u001b[0;32m   3521\u001b[0m \u001b[39mexcept\u001b[39;00m:\n\u001b[1;32m-> 3522\u001b[0m     \u001b[39mwith\u001b[39;00m util\u001b[39m.\u001b[39msafe_reraise():\n\u001b[0;32m   3523\u001b[0m         transaction\u001b[39m.\u001b[39mrollback(_capture_exception\u001b[39m=\u001b[39m\u001b[39mTrue\u001b[39;00m)\n",
      "File \u001b[1;32mc:\\Users\\Lenovo\\AppData\\Local\\Programs\\Python\\Python310\\lib\\site-packages\\sqlalchemy\\util\\langhelpers.py:70\u001b[0m, in \u001b[0;36msafe_reraise.__exit__\u001b[1;34m(self, type_, value, traceback)\u001b[0m\n\u001b[0;32m     69\u001b[0m     \u001b[39mif\u001b[39;00m \u001b[39mnot\u001b[39;00m \u001b[39mself\u001b[39m\u001b[39m.\u001b[39mwarn_only:\n\u001b[1;32m---> 70\u001b[0m         compat\u001b[39m.\u001b[39;49mraise_(\n\u001b[0;32m     71\u001b[0m             exc_value,\n\u001b[0;32m     72\u001b[0m             with_traceback\u001b[39m=\u001b[39;49mexc_tb,\n\u001b[0;32m     73\u001b[0m         )\n\u001b[0;32m     74\u001b[0m \u001b[39melse\u001b[39;00m:\n",
      "File \u001b[1;32mc:\\Users\\Lenovo\\AppData\\Local\\Programs\\Python\\Python310\\lib\\site-packages\\sqlalchemy\\util\\compat.py:208\u001b[0m, in \u001b[0;36mraise_\u001b[1;34m(***failed resolving arguments***)\u001b[0m\n\u001b[0;32m    207\u001b[0m \u001b[39mtry\u001b[39;00m:\n\u001b[1;32m--> 208\u001b[0m     \u001b[39mraise\u001b[39;00m exception\n\u001b[0;32m    209\u001b[0m \u001b[39mfinally\u001b[39;00m:\n\u001b[0;32m    210\u001b[0m     \u001b[39m# credit to\u001b[39;00m\n\u001b[0;32m    211\u001b[0m     \u001b[39m# https://cosmicpercolator.com/2016/01/13/exception-leaks-in-python-2-and-3/\u001b[39;00m\n\u001b[0;32m    212\u001b[0m     \u001b[39m# as the __traceback__ object creates a cycle\u001b[39;00m\n",
      "File \u001b[1;32mc:\\Users\\Lenovo\\AppData\\Local\\Programs\\Python\\Python310\\lib\\site-packages\\sqlalchemy\\orm\\session.py:3483\u001b[0m, in \u001b[0;36mSession._flush\u001b[1;34m(self, objects)\u001b[0m\n\u001b[0;32m   3482\u001b[0m \u001b[39mtry\u001b[39;00m:\n\u001b[1;32m-> 3483\u001b[0m     flush_context\u001b[39m.\u001b[39;49mexecute()\n\u001b[0;32m   3484\u001b[0m \u001b[39mfinally\u001b[39;00m:\n",
      "File \u001b[1;32mc:\\Users\\Lenovo\\AppData\\Local\\Programs\\Python\\Python310\\lib\\site-packages\\sqlalchemy\\orm\\unitofwork.py:456\u001b[0m, in \u001b[0;36mUOWTransaction.execute\u001b[1;34m(self)\u001b[0m\n\u001b[0;32m    455\u001b[0m \u001b[39mfor\u001b[39;00m rec \u001b[39min\u001b[39;00m topological\u001b[39m.\u001b[39msort(\u001b[39mself\u001b[39m\u001b[39m.\u001b[39mdependencies, postsort_actions):\n\u001b[1;32m--> 456\u001b[0m     rec\u001b[39m.\u001b[39;49mexecute(\u001b[39mself\u001b[39;49m)\n",
      "File \u001b[1;32mc:\\Users\\Lenovo\\AppData\\Local\\Programs\\Python\\Python310\\lib\\site-packages\\sqlalchemy\\orm\\unitofwork.py:630\u001b[0m, in \u001b[0;36mSaveUpdateAll.execute\u001b[1;34m(self, uow)\u001b[0m\n\u001b[0;32m    628\u001b[0m \u001b[39m@util\u001b[39m\u001b[39m.\u001b[39mpreload_module(\u001b[39m\"\u001b[39m\u001b[39msqlalchemy.orm.persistence\u001b[39m\u001b[39m\"\u001b[39m)\n\u001b[0;32m    629\u001b[0m \u001b[39mdef\u001b[39;00m \u001b[39mexecute\u001b[39m(\u001b[39mself\u001b[39m, uow):\n\u001b[1;32m--> 630\u001b[0m     util\u001b[39m.\u001b[39;49mpreloaded\u001b[39m.\u001b[39;49morm_persistence\u001b[39m.\u001b[39;49msave_obj(\n\u001b[0;32m    631\u001b[0m         \u001b[39mself\u001b[39;49m\u001b[39m.\u001b[39;49mmapper,\n\u001b[0;32m    632\u001b[0m         uow\u001b[39m.\u001b[39;49mstates_for_mapper_hierarchy(\u001b[39mself\u001b[39;49m\u001b[39m.\u001b[39;49mmapper, \u001b[39mFalse\u001b[39;49;00m, \u001b[39mFalse\u001b[39;49;00m),\n\u001b[0;32m    633\u001b[0m         uow,\n\u001b[0;32m    634\u001b[0m     )\n",
      "File \u001b[1;32mc:\\Users\\Lenovo\\AppData\\Local\\Programs\\Python\\Python310\\lib\\site-packages\\sqlalchemy\\orm\\persistence.py:245\u001b[0m, in \u001b[0;36msave_obj\u001b[1;34m(base_mapper, states, uowtransaction, single)\u001b[0m\n\u001b[0;32m    237\u001b[0m     _emit_update_statements(\n\u001b[0;32m    238\u001b[0m         base_mapper,\n\u001b[0;32m    239\u001b[0m         uowtransaction,\n\u001b[1;32m   (...)\u001b[0m\n\u001b[0;32m    242\u001b[0m         update,\n\u001b[0;32m    243\u001b[0m     )\n\u001b[1;32m--> 245\u001b[0m     _emit_insert_statements(\n\u001b[0;32m    246\u001b[0m         base_mapper,\n\u001b[0;32m    247\u001b[0m         uowtransaction,\n\u001b[0;32m    248\u001b[0m         mapper,\n\u001b[0;32m    249\u001b[0m         table,\n\u001b[0;32m    250\u001b[0m         insert,\n\u001b[0;32m    251\u001b[0m     )\n\u001b[0;32m    253\u001b[0m _finalize_insert_update_commands(\n\u001b[0;32m    254\u001b[0m     base_mapper,\n\u001b[0;32m    255\u001b[0m     uowtransaction,\n\u001b[1;32m   (...)\u001b[0m\n\u001b[0;32m    271\u001b[0m     ),\n\u001b[0;32m    272\u001b[0m )\n",
      "File \u001b[1;32mc:\\Users\\Lenovo\\AppData\\Local\\Programs\\Python\\Python310\\lib\\site-packages\\sqlalchemy\\orm\\persistence.py:1238\u001b[0m, in \u001b[0;36m_emit_insert_statements\u001b[1;34m(base_mapper, uowtransaction, mapper, table, insert, bookkeeping)\u001b[0m\n\u001b[0;32m   1237\u001b[0m \u001b[39melse\u001b[39;00m:\n\u001b[1;32m-> 1238\u001b[0m     result \u001b[39m=\u001b[39m connection\u001b[39m.\u001b[39;49m_execute_20(\n\u001b[0;32m   1239\u001b[0m         statement,\n\u001b[0;32m   1240\u001b[0m         params,\n\u001b[0;32m   1241\u001b[0m         execution_options\u001b[39m=\u001b[39;49mexecution_options,\n\u001b[0;32m   1242\u001b[0m     )\n\u001b[0;32m   1244\u001b[0m primary_key \u001b[39m=\u001b[39m result\u001b[39m.\u001b[39minserted_primary_key\n",
      "File \u001b[1;32mc:\\Users\\Lenovo\\AppData\\Local\\Programs\\Python\\Python310\\lib\\site-packages\\sqlalchemy\\engine\\base.py:1705\u001b[0m, in \u001b[0;36mConnection._execute_20\u001b[1;34m(self, statement, parameters, execution_options)\u001b[0m\n\u001b[0;32m   1704\u001b[0m \u001b[39melse\u001b[39;00m:\n\u001b[1;32m-> 1705\u001b[0m     \u001b[39mreturn\u001b[39;00m meth(\u001b[39mself\u001b[39;49m, args_10style, kwargs_10style, execution_options)\n",
      "File \u001b[1;32mc:\\Users\\Lenovo\\AppData\\Local\\Programs\\Python\\Python310\\lib\\site-packages\\sqlalchemy\\sql\\elements.py:333\u001b[0m, in \u001b[0;36mClauseElement._execute_on_connection\u001b[1;34m(self, connection, multiparams, params, execution_options, _force)\u001b[0m\n\u001b[0;32m    332\u001b[0m \u001b[39mif\u001b[39;00m _force \u001b[39mor\u001b[39;00m \u001b[39mself\u001b[39m\u001b[39m.\u001b[39msupports_execution:\n\u001b[1;32m--> 333\u001b[0m     \u001b[39mreturn\u001b[39;00m connection\u001b[39m.\u001b[39;49m_execute_clauseelement(\n\u001b[0;32m    334\u001b[0m         \u001b[39mself\u001b[39;49m, multiparams, params, execution_options\n\u001b[0;32m    335\u001b[0m     )\n\u001b[0;32m    336\u001b[0m \u001b[39melse\u001b[39;00m:\n",
      "File \u001b[1;32mc:\\Users\\Lenovo\\AppData\\Local\\Programs\\Python\\Python310\\lib\\site-packages\\sqlalchemy\\engine\\base.py:1572\u001b[0m, in \u001b[0;36mConnection._execute_clauseelement\u001b[1;34m(self, elem, multiparams, params, execution_options)\u001b[0m\n\u001b[0;32m   1564\u001b[0m compiled_sql, extracted_params, cache_hit \u001b[39m=\u001b[39m elem\u001b[39m.\u001b[39m_compile_w_cache(\n\u001b[0;32m   1565\u001b[0m     dialect\u001b[39m=\u001b[39mdialect,\n\u001b[0;32m   1566\u001b[0m     compiled_cache\u001b[39m=\u001b[39mcompiled_cache,\n\u001b[1;32m   (...)\u001b[0m\n\u001b[0;32m   1570\u001b[0m     linting\u001b[39m=\u001b[39m\u001b[39mself\u001b[39m\u001b[39m.\u001b[39mdialect\u001b[39m.\u001b[39mcompiler_linting \u001b[39m|\u001b[39m compiler\u001b[39m.\u001b[39mWARN_LINTING,\n\u001b[0;32m   1571\u001b[0m )\n\u001b[1;32m-> 1572\u001b[0m ret \u001b[39m=\u001b[39m \u001b[39mself\u001b[39;49m\u001b[39m.\u001b[39;49m_execute_context(\n\u001b[0;32m   1573\u001b[0m     dialect,\n\u001b[0;32m   1574\u001b[0m     dialect\u001b[39m.\u001b[39;49mexecution_ctx_cls\u001b[39m.\u001b[39;49m_init_compiled,\n\u001b[0;32m   1575\u001b[0m     compiled_sql,\n\u001b[0;32m   1576\u001b[0m     distilled_params,\n\u001b[0;32m   1577\u001b[0m     execution_options,\n\u001b[0;32m   1578\u001b[0m     compiled_sql,\n\u001b[0;32m   1579\u001b[0m     distilled_params,\n\u001b[0;32m   1580\u001b[0m     elem,\n\u001b[0;32m   1581\u001b[0m     extracted_params,\n\u001b[0;32m   1582\u001b[0m     cache_hit\u001b[39m=\u001b[39;49mcache_hit,\n\u001b[0;32m   1583\u001b[0m )\n\u001b[0;32m   1584\u001b[0m \u001b[39mif\u001b[39;00m has_events:\n",
      "File \u001b[1;32mc:\\Users\\Lenovo\\AppData\\Local\\Programs\\Python\\Python310\\lib\\site-packages\\sqlalchemy\\engine\\base.py:1943\u001b[0m, in \u001b[0;36mConnection._execute_context\u001b[1;34m(self, dialect, constructor, statement, parameters, execution_options, *args, **kw)\u001b[0m\n\u001b[0;32m   1942\u001b[0m \u001b[39mexcept\u001b[39;00m \u001b[39mBaseException\u001b[39;00m \u001b[39mas\u001b[39;00m e:\n\u001b[1;32m-> 1943\u001b[0m     \u001b[39mself\u001b[39;49m\u001b[39m.\u001b[39;49m_handle_dbapi_exception(\n\u001b[0;32m   1944\u001b[0m         e, statement, parameters, cursor, context\n\u001b[0;32m   1945\u001b[0m     )\n\u001b[0;32m   1947\u001b[0m \u001b[39mreturn\u001b[39;00m result\n",
      "File \u001b[1;32mc:\\Users\\Lenovo\\AppData\\Local\\Programs\\Python\\Python310\\lib\\site-packages\\sqlalchemy\\engine\\base.py:2124\u001b[0m, in \u001b[0;36mConnection._handle_dbapi_exception\u001b[1;34m(self, e, statement, parameters, cursor, context)\u001b[0m\n\u001b[0;32m   2123\u001b[0m \u001b[39melif\u001b[39;00m should_wrap:\n\u001b[1;32m-> 2124\u001b[0m     util\u001b[39m.\u001b[39;49mraise_(\n\u001b[0;32m   2125\u001b[0m         sqlalchemy_exception, with_traceback\u001b[39m=\u001b[39;49mexc_info[\u001b[39m2\u001b[39;49m], from_\u001b[39m=\u001b[39;49me\n\u001b[0;32m   2126\u001b[0m     )\n\u001b[0;32m   2127\u001b[0m \u001b[39melse\u001b[39;00m:\n",
      "File \u001b[1;32mc:\\Users\\Lenovo\\AppData\\Local\\Programs\\Python\\Python310\\lib\\site-packages\\sqlalchemy\\util\\compat.py:208\u001b[0m, in \u001b[0;36mraise_\u001b[1;34m(***failed resolving arguments***)\u001b[0m\n\u001b[0;32m    207\u001b[0m \u001b[39mtry\u001b[39;00m:\n\u001b[1;32m--> 208\u001b[0m     \u001b[39mraise\u001b[39;00m exception\n\u001b[0;32m    209\u001b[0m \u001b[39mfinally\u001b[39;00m:\n\u001b[0;32m    210\u001b[0m     \u001b[39m# credit to\u001b[39;00m\n\u001b[0;32m    211\u001b[0m     \u001b[39m# https://cosmicpercolator.com/2016/01/13/exception-leaks-in-python-2-and-3/\u001b[39;00m\n\u001b[0;32m    212\u001b[0m     \u001b[39m# as the __traceback__ object creates a cycle\u001b[39;00m\n",
      "File \u001b[1;32mc:\\Users\\Lenovo\\AppData\\Local\\Programs\\Python\\Python310\\lib\\site-packages\\sqlalchemy\\engine\\base.py:1900\u001b[0m, in \u001b[0;36mConnection._execute_context\u001b[1;34m(self, dialect, constructor, statement, parameters, execution_options, *args, **kw)\u001b[0m\n\u001b[0;32m   1899\u001b[0m     \u001b[39mif\u001b[39;00m \u001b[39mnot\u001b[39;00m evt_handled:\n\u001b[1;32m-> 1900\u001b[0m         \u001b[39mself\u001b[39;49m\u001b[39m.\u001b[39;49mdialect\u001b[39m.\u001b[39;49mdo_execute(\n\u001b[0;32m   1901\u001b[0m             cursor, statement, parameters, context\n\u001b[0;32m   1902\u001b[0m         )\n\u001b[0;32m   1904\u001b[0m \u001b[39mif\u001b[39;00m \u001b[39mself\u001b[39m\u001b[39m.\u001b[39m_has_events \u001b[39mor\u001b[39;00m \u001b[39mself\u001b[39m\u001b[39m.\u001b[39mengine\u001b[39m.\u001b[39m_has_events:\n",
      "File \u001b[1;32mc:\\Users\\Lenovo\\AppData\\Local\\Programs\\Python\\Python310\\lib\\site-packages\\sqlalchemy\\engine\\default.py:732\u001b[0m, in \u001b[0;36mDefaultDialect.do_execute\u001b[1;34m(self, cursor, statement, parameters, context)\u001b[0m\n\u001b[0;32m    731\u001b[0m \u001b[39mdef\u001b[39;00m \u001b[39mdo_execute\u001b[39m(\u001b[39mself\u001b[39m, cursor, statement, parameters, context\u001b[39m=\u001b[39m\u001b[39mNone\u001b[39;00m):\n\u001b[1;32m--> 732\u001b[0m     cursor\u001b[39m.\u001b[39;49mexecute(statement, parameters)\n",
      "\u001b[1;31mIntegrityError\u001b[0m: (raised as a result of Query-invoked autoflush; consider using a session.no_autoflush block if this flush is occurring prematurely)\n(sqlite3.IntegrityError) UNIQUE constraint failed: experiments.name\n[SQL: INSERT INTO experiments (name, artifact_location, lifecycle_stage, creation_time, last_update_time) VALUES (?, ?, ?, ?, ?)]\n[parameters: ('my-cool-experiment', None, 'active', 1681180683406, 1681180683406)]\n(Background on this error at: https://sqlalche.me/e/14/gkpj)",
      "\nDuring handling of the above exception, another exception occurred:\n",
      "\u001b[1;31mMlflowException\u001b[0m                           Traceback (most recent call last)",
      "\u001b[1;32md:\\henry\\Data Science\\MLops\\experiment-tracking\\model-registry.ipynb Cell 3\u001b[0m in \u001b[0;36m<cell line: 1>\u001b[1;34m()\u001b[0m\n\u001b[1;32m----> <a href='vscode-notebook-cell:/d%3A/henry/Data%20Science/MLops/experiment-tracking/model-registry.ipynb#W2sZmlsZQ%3D%3D?line=0'>1</a>\u001b[0m client\u001b[39m.\u001b[39;49mcreate_experiment(name\u001b[39m=\u001b[39;49m\u001b[39m\"\u001b[39;49m\u001b[39mmy-cool-experiment\u001b[39;49m\u001b[39m\"\u001b[39;49m)\n",
      "File \u001b[1;32mc:\\Users\\Lenovo\\AppData\\Local\\Programs\\Python\\Python310\\lib\\site-packages\\mlflow\\tracking\\client.py:506\u001b[0m, in \u001b[0;36mMlflowClient.create_experiment\u001b[1;34m(self, name, artifact_location, tags)\u001b[0m\n\u001b[0;32m    458\u001b[0m \u001b[39mdef\u001b[39;00m \u001b[39mcreate_experiment\u001b[39m(\n\u001b[0;32m    459\u001b[0m     \u001b[39mself\u001b[39m,\n\u001b[0;32m    460\u001b[0m     name: \u001b[39mstr\u001b[39m,\n\u001b[0;32m    461\u001b[0m     artifact_location: Optional[\u001b[39mstr\u001b[39m] \u001b[39m=\u001b[39m \u001b[39mNone\u001b[39;00m,\n\u001b[0;32m    462\u001b[0m     tags: Optional[Dict[\u001b[39mstr\u001b[39m, Any]] \u001b[39m=\u001b[39m \u001b[39mNone\u001b[39;00m,\n\u001b[0;32m    463\u001b[0m ) \u001b[39m-\u001b[39m\u001b[39m>\u001b[39m \u001b[39mstr\u001b[39m:\n\u001b[0;32m    464\u001b[0m     \u001b[39m\"\"\"Create an experiment.\u001b[39;00m\n\u001b[0;32m    465\u001b[0m \n\u001b[0;32m    466\u001b[0m \u001b[39m    :param name: The experiment name. Must be unique.\u001b[39;00m\n\u001b[1;32m   (...)\u001b[0m\n\u001b[0;32m    504\u001b[0m \u001b[39m        Lifecycle_stage: active\u001b[39;00m\n\u001b[0;32m    505\u001b[0m \u001b[39m    \"\"\"\u001b[39;00m\n\u001b[1;32m--> 506\u001b[0m     \u001b[39mreturn\u001b[39;00m \u001b[39mself\u001b[39;49m\u001b[39m.\u001b[39;49m_tracking_client\u001b[39m.\u001b[39;49mcreate_experiment(name, artifact_location, tags)\n",
      "File \u001b[1;32mc:\\Users\\Lenovo\\AppData\\Local\\Programs\\Python\\Python310\\lib\\site-packages\\mlflow\\tracking\\_tracking_service\\client.py:234\u001b[0m, in \u001b[0;36mTrackingServiceClient.create_experiment\u001b[1;34m(self, name, artifact_location, tags)\u001b[0m\n\u001b[0;32m    223\u001b[0m \u001b[39m\"\"\"Create an experiment.\u001b[39;00m\n\u001b[0;32m    224\u001b[0m \n\u001b[0;32m    225\u001b[0m \u001b[39m:param name: The experiment name. Must be unique.\u001b[39;00m\n\u001b[1;32m   (...)\u001b[0m\n\u001b[0;32m    230\u001b[0m \u001b[39m:return: Integer ID of the created experiment.\u001b[39;00m\n\u001b[0;32m    231\u001b[0m \u001b[39m\"\"\"\u001b[39;00m\n\u001b[0;32m    232\u001b[0m _validate_experiment_artifact_location(artifact_location)\n\u001b[1;32m--> 234\u001b[0m \u001b[39mreturn\u001b[39;00m \u001b[39mself\u001b[39;49m\u001b[39m.\u001b[39;49mstore\u001b[39m.\u001b[39;49mcreate_experiment(\n\u001b[0;32m    235\u001b[0m     name\u001b[39m=\u001b[39;49mname,\n\u001b[0;32m    236\u001b[0m     artifact_location\u001b[39m=\u001b[39;49martifact_location,\n\u001b[0;32m    237\u001b[0m     tags\u001b[39m=\u001b[39;49m[ExperimentTag(key, value) \u001b[39mfor\u001b[39;49;00m (key, value) \u001b[39min\u001b[39;49;00m tags\u001b[39m.\u001b[39;49mitems()] \u001b[39mif\u001b[39;49;00m tags \u001b[39melse\u001b[39;49;00m [],\n\u001b[0;32m    238\u001b[0m )\n",
      "File \u001b[1;32mc:\\Users\\Lenovo\\AppData\\Local\\Programs\\Python\\Python310\\lib\\site-packages\\mlflow\\store\\tracking\\sqlalchemy_store.py:259\u001b[0m, in \u001b[0;36mSqlAlchemyStore.create_experiment\u001b[1;34m(self, name, artifact_location, tags)\u001b[0m\n\u001b[0;32m    257\u001b[0m         experiment\u001b[39m.\u001b[39martifact_location \u001b[39m=\u001b[39m \u001b[39mself\u001b[39m\u001b[39m.\u001b[39m_get_artifact_location(eid)\n\u001b[0;32m    258\u001b[0m \u001b[39mexcept\u001b[39;00m sqlalchemy\u001b[39m.\u001b[39mexc\u001b[39m.\u001b[39mIntegrityError \u001b[39mas\u001b[39;00m e:\n\u001b[1;32m--> 259\u001b[0m     \u001b[39mraise\u001b[39;00m MlflowException(\n\u001b[0;32m    260\u001b[0m         \u001b[39m\"\u001b[39m\u001b[39mExperiment(name=\u001b[39m\u001b[39m{}\u001b[39;00m\u001b[39m) already exists. Error: \u001b[39m\u001b[39m{}\u001b[39;00m\u001b[39m\"\u001b[39m\u001b[39m.\u001b[39mformat(name, \u001b[39mstr\u001b[39m(e)),\n\u001b[0;32m    261\u001b[0m         RESOURCE_ALREADY_EXISTS,\n\u001b[0;32m    262\u001b[0m     )\n\u001b[0;32m    264\u001b[0m session\u001b[39m.\u001b[39mflush()\n\u001b[0;32m    265\u001b[0m \u001b[39mreturn\u001b[39;00m \u001b[39mstr\u001b[39m(experiment\u001b[39m.\u001b[39mexperiment_id)\n",
      "\u001b[1;31mMlflowException\u001b[0m: Experiment(name=my-cool-experiment) already exists. Error: (raised as a result of Query-invoked autoflush; consider using a session.no_autoflush block if this flush is occurring prematurely)\n(sqlite3.IntegrityError) UNIQUE constraint failed: experiments.name\n[SQL: INSERT INTO experiments (name, artifact_location, lifecycle_stage, creation_time, last_update_time) VALUES (?, ?, ?, ?, ?)]\n[parameters: ('my-cool-experiment', None, 'active', 1681180683406, 1681180683406)]\n(Background on this error at: https://sqlalche.me/e/14/gkpj)"
     ]
    }
   ],
   "source": [
    "client.create_experiment(name=\"my-cool-experiment\")"
   ]
  },
  {
   "cell_type": "code",
   "execution_count": 26,
   "metadata": {},
   "outputs": [],
   "source": [
    "from mlflow.entities import ViewType\n",
    "\n",
    "runs = client.search_runs(\n",
    "    experiment_ids='1',\n",
    "    filter_string=\"metrics.rmse < 7\",\n",
    "    run_view_type=ViewType.ACTIVE_ONLY,\n",
    "    max_results=5,\n",
    "    order_by=[\"metrics.rmse ASC\"]\n",
    ")"
   ]
  },
  {
   "cell_type": "code",
   "execution_count": 27,
   "metadata": {},
   "outputs": [
    {
     "name": "stdout",
     "output_type": "stream",
     "text": [
      "run id: 8499b64b75e34d418f65a1a6ee9f9120, rmse: 6.3005\n",
      "run id: 9ffafd2721c64e5293819e8a375ae1e8, rmse: 6.3021\n",
      "run id: b145771252a04dc3924bd122e9b75772, rmse: 6.3024\n",
      "run id: 5ad303ed24204a4785bb80b70e3c1b2e, rmse: 6.3024\n",
      "run id: 5fdd35bee58c4de0a9085be4e7a28415, rmse: 6.3058\n"
     ]
    }
   ],
   "source": [
    "for run in runs:\n",
    "    print(f\"run id: {run.info.run_id}, rmse: {run.data.metrics['rmse']:.4f}\")"
   ]
  },
  {
   "cell_type": "code",
   "execution_count": 28,
   "metadata": {},
   "outputs": [],
   "source": [
    "import mlflow\n",
    "mlflow.set_tracking_uri(MLFLOW_TRACKING_URI)"
   ]
  },
  {
   "cell_type": "code",
   "execution_count": 31,
   "metadata": {},
   "outputs": [
    {
     "name": "stderr",
     "output_type": "stream",
     "text": [
      "Registered model 'nyc-taxi-regressor' already exists. Creating a new version of this model...\n",
      "2023/04/11 05:39:28 INFO mlflow.tracking._model_registry.client: Waiting up to 300 seconds for model version to finish creation.                     Model name: nyc-taxi-regressor, version 3\n",
      "Created version '3' of model 'nyc-taxi-regressor'.\n"
     ]
    },
    {
     "data": {
      "text/plain": [
       "<ModelVersion: creation_timestamp=1681180768382, current_stage='None', description=None, last_updated_timestamp=1681180768382, name='nyc-taxi-regressor', run_id='b145771252a04dc3924bd122e9b75772', run_link=None, source=('file:///d:/henry/Data '\n",
       " 'Science/MLops/experiment-tracking/mlruns/1/b145771252a04dc3924bd122e9b75772/artifacts/model'), status='READY', status_message=None, tags={}, user_id=None, version=3>"
      ]
     },
     "execution_count": 31,
     "metadata": {},
     "output_type": "execute_result"
    }
   ],
   "source": [
    "run_id = \"b145771252a04dc3924bd122e9b75772\"\n",
    "model_uri = f\"runs:/{run_id}/model\"\n",
    "mlflow.register_model(model_uri=model_uri, name=\"nyc-taxi-regressor\")"
   ]
  },
  {
   "cell_type": "code",
   "execution_count": 32,
   "metadata": {},
   "outputs": [
    {
     "data": {
      "text/plain": [
       "'runs:/b145771252a04dc3924bd122e9b75772/model'"
      ]
     },
     "execution_count": 32,
     "metadata": {},
     "output_type": "execute_result"
    }
   ],
   "source": [
    "model_uri"
   ]
  },
  {
   "cell_type": "code",
   "execution_count": 34,
   "metadata": {},
   "outputs": [
    {
     "name": "stdout",
     "output_type": "stream",
     "text": [
      "version: 1, stage: Staging\n",
      "version: 2, stage: Production\n",
      "version: 3, stage: None\n"
     ]
    }
   ],
   "source": [
    "model_name = \"nyc-taxi-regressor\"\n",
    "latest_versions = client.get_latest_versions(name=model_name)\n",
    "for version in latest_versions:\n",
    "    print(f\"version: {version.version}, stage: {version.current_stage}\")"
   ]
  },
  {
   "cell_type": "code",
   "execution_count": 36,
   "metadata": {},
   "outputs": [
    {
     "data": {
      "text/plain": [
       "<ModelVersion: creation_timestamp=1681180768382, current_stage='Staging', description=None, last_updated_timestamp=1681182395088, name='nyc-taxi-regressor', run_id='b145771252a04dc3924bd122e9b75772', run_link=None, source=('file:///d:/henry/Data '\n",
       " 'Science/MLops/experiment-tracking/mlruns/1/b145771252a04dc3924bd122e9b75772/artifacts/model'), status='READY', status_message=None, tags={}, user_id=None, version=3>"
      ]
     },
     "execution_count": 36,
     "metadata": {},
     "output_type": "execute_result"
    }
   ],
   "source": [
    "model_version = 3\n",
    "new_stage = \"Staging\"\n",
    "client.transition_model_version_stage(\n",
    "    name=model_name,\n",
    "    version=model_version,\n",
    "    stage=new_stage,\n",
    "    archive_existing_versions=False\n",
    ")"
   ]
  },
  {
   "cell_type": "code",
   "execution_count": 37,
   "metadata": {},
   "outputs": [
    {
     "data": {
      "text/plain": [
       "<ModelVersion: creation_timestamp=1681180768382, current_stage='Staging', description='The model version 3 was transitioned to Staging on 2023-04-11', last_updated_timestamp=1681182398823, name='nyc-taxi-regressor', run_id='b145771252a04dc3924bd122e9b75772', run_link=None, source=('file:///d:/henry/Data '\n",
       " 'Science/MLops/experiment-tracking/mlruns/1/b145771252a04dc3924bd122e9b75772/artifacts/model'), status='READY', status_message=None, tags={}, user_id=None, version=3>"
      ]
     },
     "execution_count": 37,
     "metadata": {},
     "output_type": "execute_result"
    }
   ],
   "source": [
    "from datetime import datetime\n",
    "\n",
    "date = datetime.today().date()\n",
    "client.update_model_version(\n",
    "    name=model_name,\n",
    "    version=model_version,\n",
    "    description=f\"The model version {model_version} was transitioned to {new_stage} on {date}\"\n",
    ")"
   ]
  },
  {
   "cell_type": "code",
   "execution_count": 38,
   "metadata": {},
   "outputs": [],
   "source": [
    "from sklearn.metrics import mean_squared_error\n",
    "import pandas as pd\n",
    "\n",
    "\n",
    "def read_dataframe(filename):\n",
    "    df = pd.read_csv(filename)\n",
    "\n",
    "    df.lpep_dropoff_datetime = pd.to_datetime(df.lpep_dropoff_datetime)\n",
    "    df.lpep_pickup_datetime = pd.to_datetime(df.lpep_pickup_datetime)\n",
    "\n",
    "    df['duration'] = df.lpep_dropoff_datetime - df.lpep_pickup_datetime\n",
    "    df.duration = df.duration.apply(lambda td: td.total_seconds() / 60)\n",
    "\n",
    "    df = df[(df.duration >= 1) & (df.duration <= 60)]\n",
    "\n",
    "    categorical = ['PULocationID', 'DOLocationID']\n",
    "    df[categorical] = df[categorical].astype(str)\n",
    "    \n",
    "    return df\n",
    "\n",
    "\n",
    "def preprocess(df, dv):\n",
    "    df['PU_DO'] = df['PULocationID'] + '_' + df['DOLocationID']\n",
    "    categorical = ['PU_DO']\n",
    "    numerical = ['trip_distance']\n",
    "    train_dicts = df[categorical + numerical].to_dict(orient='records')\n",
    "    return dv.transform(train_dicts)\n",
    "\n",
    "\n",
    "def test_model(name, stage, X_test, y_test):\n",
    "    model = mlflow.pyfunc.load_model(f\"models:/{name}/{stage}\")\n",
    "    y_pred = model.predict(X_test)\n",
    "    return {\"rmse\": mean_squared_error(y_test, y_pred, squared=False)}"
   ]
  },
  {
   "cell_type": "code",
   "execution_count": 46,
   "metadata": {},
   "outputs": [
    {
     "name": "stderr",
     "output_type": "stream",
     "text": [
      "C:\\Users\\Lenovo\\AppData\\Local\\Temp\\ipykernel_23700\\3050441246.py:6: DtypeWarning: Columns (3) have mixed types. Specify dtype option on import or set low_memory=False.\n",
      "  df = pd.read_csv(filename)\n"
     ]
    }
   ],
   "source": [
    "df = read_dataframe(\"data/green_tripdata_2021-03.csv\")"
   ]
  },
  {
   "cell_type": "code",
   "execution_count": 47,
   "metadata": {},
   "outputs": [
    {
     "name": "stderr",
     "output_type": "stream",
     "text": [
      "C:\\Users\\Lenovo\\AppData\\Local\\Temp\\ipykernel_23700\\2852634549.py:1: FutureWarning: ``mlflow.tracking.client.MlflowClient.download_artifacts`` is deprecated since 2.0. This method will be removed in a future release. Use ``mlflow.artifacts.download_artifacts`` instead.\n",
      "  client.download_artifacts(run_id=run_id, path='preprocessor', dst_path='.')\n"
     ]
    },
    {
     "data": {
      "text/plain": [
       "'d:\\\\henry\\\\Data Science\\\\MLops\\\\experiment-tracking\\\\preprocessor'"
      ]
     },
     "execution_count": 47,
     "metadata": {},
     "output_type": "execute_result"
    }
   ],
   "source": [
    "client.download_artifacts(run_id=run_id, path='preprocessor', dst_path='.')"
   ]
  },
  {
   "cell_type": "code",
   "execution_count": 48,
   "metadata": {},
   "outputs": [],
   "source": [
    "import pickle\n",
    "\n",
    "with open(\"preprocessor/preprocessor.b\", \"rb\") as f_in:\n",
    "    dv = pickle.load(f_in)"
   ]
  },
  {
   "cell_type": "code",
   "execution_count": 49,
   "metadata": {},
   "outputs": [],
   "source": [
    "X_test = preprocess(df, dv)"
   ]
  },
  {
   "cell_type": "code",
   "execution_count": 50,
   "metadata": {},
   "outputs": [],
   "source": [
    "target = \"duration\"\n",
    "y_test = df[target].values"
   ]
  },
  {
   "cell_type": "code",
   "execution_count": 51,
   "metadata": {},
   "outputs": [
    {
     "name": "stdout",
     "output_type": "stream",
     "text": [
      "CPU times: total: 11.3 s\n",
      "Wall time: 17.2 s\n"
     ]
    },
    {
     "data": {
      "text/plain": [
       "{'rmse': 6.885236608020716}"
      ]
     },
     "execution_count": 51,
     "metadata": {},
     "output_type": "execute_result"
    }
   ],
   "source": [
    "%time test_model(name=model_name, stage=\"Production\", X_test=X_test, y_test=y_test)"
   ]
  },
  {
   "cell_type": "code",
   "execution_count": 52,
   "metadata": {},
   "outputs": [
    {
     "name": "stdout",
     "output_type": "stream",
     "text": [
      "[06:28:50] WARNING: C:/buildkite-agent/builds/buildkite-windows-cpu-autoscaling-group-i-0fc7796c793e6356f-1/xgboost/xgboost-ci-windows/src/objective/regression_obj.cu:213: reg:linear is now deprecated in favor of reg:squarederror.\n",
      "CPU times: total: 21.4 s\n",
      "Wall time: 3.87 s\n"
     ]
    },
    {
     "data": {
      "text/plain": [
       "{'rmse': 6.248294328516825}"
      ]
     },
     "execution_count": 52,
     "metadata": {},
     "output_type": "execute_result"
    }
   ],
   "source": [
    "%time test_model(name=model_name, stage=\"Staging\", X_test=X_test, y_test=y_test)"
   ]
  },
  {
   "cell_type": "code",
   "execution_count": 53,
   "metadata": {},
   "outputs": [
    {
     "data": {
      "text/plain": [
       "<ModelVersion: creation_timestamp=1681180768382, current_stage='Production', description='The model version 3 was transitioned to Staging on 2023-04-11', last_updated_timestamp=1681183841125, name='nyc-taxi-regressor', run_id='b145771252a04dc3924bd122e9b75772', run_link=None, source=('file:///d:/henry/Data '\n",
       " 'Science/MLops/experiment-tracking/mlruns/1/b145771252a04dc3924bd122e9b75772/artifacts/model'), status='READY', status_message=None, tags={}, user_id=None, version=3>"
      ]
     },
     "execution_count": 53,
     "metadata": {},
     "output_type": "execute_result"
    }
   ],
   "source": [
    "client.transition_model_version_stage(\n",
    "    name=model_name,\n",
    "    version=3,\n",
    "    stage=\"Production\",\n",
    "    archive_existing_versions=True\n",
    ")"
   ]
  },
  {
   "cell_type": "code",
   "execution_count": null,
   "metadata": {},
   "outputs": [],
   "source": []
  }
 ],
 "metadata": {
  "kernelspec": {
   "display_name": "Python 3",
   "language": "python",
   "name": "python3"
  },
  "language_info": {
   "codemirror_mode": {
    "name": "ipython",
    "version": 3
   },
   "file_extension": ".py",
   "mimetype": "text/x-python",
   "name": "python",
   "nbconvert_exporter": "python",
   "pygments_lexer": "ipython3",
   "version": "3.10.5"
  },
  "orig_nbformat": 4,
  "vscode": {
   "interpreter": {
    "hash": "8c3d4d9970fc5c09c50d9318a9c7fbf4d0159e4b28833276f5678ee22bded273"
   }
  }
 },
 "nbformat": 4,
 "nbformat_minor": 2
}
